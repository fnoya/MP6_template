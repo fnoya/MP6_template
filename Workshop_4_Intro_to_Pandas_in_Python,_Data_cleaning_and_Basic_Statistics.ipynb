{
  "nbformat": 4,
  "nbformat_minor": 0,
  "metadata": {
    "kernelspec": {
      "display_name": "Python 3",
      "language": "python",
      "name": "python3"
    },
    "language_info": {
      "codemirror_mode": {
        "name": "ipython",
        "version": 3
      },
      "file_extension": ".py",
      "mimetype": "text/x-python",
      "name": "python",
      "nbconvert_exporter": "python",
      "pygments_lexer": "ipython3",
      "version": "3.8.5"
    },
    "colab": {
      "name": "Workshop 4 - Intro to Pandas in Python, Data cleaning and Basic Statistics.ipynb",
      "provenance": [],
      "toc_visible": true,
      "include_colab_link": true
    }
  },
  "cells": [
    {
      "cell_type": "markdown",
      "metadata": {
        "id": "view-in-github",
        "colab_type": "text"
      },
      "source": [
        "<a href=\"https://colab.research.google.com/github/fnoya/MP6_template/blob/master/Workshop_4_Intro_to_Pandas_in_Python%2C_Data_cleaning_and_Basic_Statistics.ipynb\" target=\"_parent\"><img src=\"https://colab.research.google.com/assets/colab-badge.svg\" alt=\"Open In Colab\"/></a>"
      ]
    },
    {
      "cell_type": "markdown",
      "metadata": {
        "id": "8ddKaqbcld13"
      },
      "source": [
        "# Hello Everyone!\n",
        "\n",
        "\n",
        "Workshop data and topics come from RealPython and Stat200 Material: https://realpython.com/python-data-cleaning-numpy-pandas/\n",
        "\n",
        "I hope everyone's having a good week, this week, in replacement to our original powerpoint slides, we are going to use Jupyter Notebooks. Jupyter Notebooks are a super versitile tool that can be used to analyze and communicate data and insights. Jupyter notebook uses Python which is one of the most popular and versitile programming languages out there. For this lecture, we are going to focus on the basics of using Python for data science, as well as two tools that you'll use every day as a data scientist and quantitative Trader: Pandas and Numpy"
      ]
    },
    {
      "cell_type": "markdown",
      "metadata": {
        "id": "Pz0BI8ield2C"
      },
      "source": [
        "## Importing into python\n",
        "\n",
        "Python starts as a blank slate, and in order to use your tools, you have to import them. This is no different from a construction worker or carpenter. They start with an empty tool belt, and when they need to use a certain tool, they put it in their tool belt as they need it. Carrying around every single tool that exists is way too heavy would probably make your pants fall down. Precisely for this reason, the import system comes in extremely handy when make efficient notebooks!\n",
        "\n",
        "Here's an example of what an import looks like"
      ]
    },
    {
      "cell_type": "code",
      "metadata": {
        "id": "asDiIl1fld2E"
      },
      "source": [
        "import pandas as pd #this line imports the pandas toolkit, and we chose to name it 'pd' for short\n",
        "import numpy as np #this line imports the numpy toolkit, and we chose to name it 'np' for short"
      ],
      "execution_count": 45,
      "outputs": []
    },
    {
      "cell_type": "markdown",
      "metadata": {
        "id": "YLypZpg6ld2F"
      },
      "source": [
        "That wasn't so bad! Next, lets look into reading and cleaning data."
      ]
    },
    {
      "cell_type": "markdown",
      "metadata": {
        "id": "X4BQM5lCld2G"
      },
      "source": [
        "## And then there was data: Reading in a csv file and creating a dataframe\n",
        "\n",
        "In the algorithm development process, once we create our hypothesis, we need to find data that we can use to either support or reject our hypothesis. This is done by reading in a file. Essentially this means that we take a file, and turn it into something that we can use in our Notebook. The most common types of files are Comma Separated Value (.csv) files. They tend to have the same icon as the Microsoft Excel files, but if you click on them, you'll be able to see where they get their names from, as they are literally a file of comma separated values. You can read these files using the .readcsv() function like so"
      ]
    },
    {
      "cell_type": "code",
      "metadata": {
        "colab": {
          "base_uri": "https://localhost:8080/",
          "height": 374
        },
        "id": "MDvgpm7gld2H",
        "outputId": "efd0d1ae-dccd-4f3c-86f0-eeee7ef734b3"
      },
      "source": [
        "pd.read_csv('BL-Flickr-Images-Book.csv')"
      ],
      "execution_count": null,
      "outputs": [
        {
          "output_type": "error",
          "ename": "FileNotFoundError",
          "evalue": "ignored",
          "traceback": [
            "\u001b[0;31m---------------------------------------------------------------------------\u001b[0m",
            "\u001b[0;31mFileNotFoundError\u001b[0m                         Traceback (most recent call last)",
            "\u001b[0;32m<ipython-input-6-0bbe60328a2b>\u001b[0m in \u001b[0;36m<module>\u001b[0;34m()\u001b[0m\n\u001b[0;32m----> 1\u001b[0;31m \u001b[0mpd\u001b[0m\u001b[0;34m.\u001b[0m\u001b[0mread_csv\u001b[0m\u001b[0;34m(\u001b[0m\u001b[0;34m'BL-Flickr-Images-Book.csv'\u001b[0m\u001b[0;34m)\u001b[0m\u001b[0;34m\u001b[0m\u001b[0;34m\u001b[0m\u001b[0m\n\u001b[0m",
            "\u001b[0;32m/usr/local/lib/python3.7/dist-packages/pandas/io/parsers.py\u001b[0m in \u001b[0;36mread_csv\u001b[0;34m(filepath_or_buffer, sep, delimiter, header, names, index_col, usecols, squeeze, prefix, mangle_dupe_cols, dtype, engine, converters, true_values, false_values, skipinitialspace, skiprows, skipfooter, nrows, na_values, keep_default_na, na_filter, verbose, skip_blank_lines, parse_dates, infer_datetime_format, keep_date_col, date_parser, dayfirst, cache_dates, iterator, chunksize, compression, thousands, decimal, lineterminator, quotechar, quoting, doublequote, escapechar, comment, encoding, dialect, error_bad_lines, warn_bad_lines, delim_whitespace, low_memory, memory_map, float_precision)\u001b[0m\n\u001b[1;32m    686\u001b[0m     )\n\u001b[1;32m    687\u001b[0m \u001b[0;34m\u001b[0m\u001b[0m\n\u001b[0;32m--> 688\u001b[0;31m     \u001b[0;32mreturn\u001b[0m \u001b[0m_read\u001b[0m\u001b[0;34m(\u001b[0m\u001b[0mfilepath_or_buffer\u001b[0m\u001b[0;34m,\u001b[0m \u001b[0mkwds\u001b[0m\u001b[0;34m)\u001b[0m\u001b[0;34m\u001b[0m\u001b[0;34m\u001b[0m\u001b[0m\n\u001b[0m\u001b[1;32m    689\u001b[0m \u001b[0;34m\u001b[0m\u001b[0m\n\u001b[1;32m    690\u001b[0m \u001b[0;34m\u001b[0m\u001b[0m\n",
            "\u001b[0;32m/usr/local/lib/python3.7/dist-packages/pandas/io/parsers.py\u001b[0m in \u001b[0;36m_read\u001b[0;34m(filepath_or_buffer, kwds)\u001b[0m\n\u001b[1;32m    452\u001b[0m \u001b[0;34m\u001b[0m\u001b[0m\n\u001b[1;32m    453\u001b[0m     \u001b[0;31m# Create the parser.\u001b[0m\u001b[0;34m\u001b[0m\u001b[0;34m\u001b[0m\u001b[0;34m\u001b[0m\u001b[0m\n\u001b[0;32m--> 454\u001b[0;31m     \u001b[0mparser\u001b[0m \u001b[0;34m=\u001b[0m \u001b[0mTextFileReader\u001b[0m\u001b[0;34m(\u001b[0m\u001b[0mfp_or_buf\u001b[0m\u001b[0;34m,\u001b[0m \u001b[0;34m**\u001b[0m\u001b[0mkwds\u001b[0m\u001b[0;34m)\u001b[0m\u001b[0;34m\u001b[0m\u001b[0;34m\u001b[0m\u001b[0m\n\u001b[0m\u001b[1;32m    455\u001b[0m \u001b[0;34m\u001b[0m\u001b[0m\n\u001b[1;32m    456\u001b[0m     \u001b[0;32mif\u001b[0m \u001b[0mchunksize\u001b[0m \u001b[0;32mor\u001b[0m \u001b[0miterator\u001b[0m\u001b[0;34m:\u001b[0m\u001b[0;34m\u001b[0m\u001b[0;34m\u001b[0m\u001b[0m\n",
            "\u001b[0;32m/usr/local/lib/python3.7/dist-packages/pandas/io/parsers.py\u001b[0m in \u001b[0;36m__init__\u001b[0;34m(self, f, engine, **kwds)\u001b[0m\n\u001b[1;32m    946\u001b[0m             \u001b[0mself\u001b[0m\u001b[0;34m.\u001b[0m\u001b[0moptions\u001b[0m\u001b[0;34m[\u001b[0m\u001b[0;34m\"has_index_names\"\u001b[0m\u001b[0;34m]\u001b[0m \u001b[0;34m=\u001b[0m \u001b[0mkwds\u001b[0m\u001b[0;34m[\u001b[0m\u001b[0;34m\"has_index_names\"\u001b[0m\u001b[0;34m]\u001b[0m\u001b[0;34m\u001b[0m\u001b[0;34m\u001b[0m\u001b[0m\n\u001b[1;32m    947\u001b[0m \u001b[0;34m\u001b[0m\u001b[0m\n\u001b[0;32m--> 948\u001b[0;31m         \u001b[0mself\u001b[0m\u001b[0;34m.\u001b[0m\u001b[0m_make_engine\u001b[0m\u001b[0;34m(\u001b[0m\u001b[0mself\u001b[0m\u001b[0;34m.\u001b[0m\u001b[0mengine\u001b[0m\u001b[0;34m)\u001b[0m\u001b[0;34m\u001b[0m\u001b[0;34m\u001b[0m\u001b[0m\n\u001b[0m\u001b[1;32m    949\u001b[0m \u001b[0;34m\u001b[0m\u001b[0m\n\u001b[1;32m    950\u001b[0m     \u001b[0;32mdef\u001b[0m \u001b[0mclose\u001b[0m\u001b[0;34m(\u001b[0m\u001b[0mself\u001b[0m\u001b[0;34m)\u001b[0m\u001b[0;34m:\u001b[0m\u001b[0;34m\u001b[0m\u001b[0;34m\u001b[0m\u001b[0m\n",
            "\u001b[0;32m/usr/local/lib/python3.7/dist-packages/pandas/io/parsers.py\u001b[0m in \u001b[0;36m_make_engine\u001b[0;34m(self, engine)\u001b[0m\n\u001b[1;32m   1178\u001b[0m     \u001b[0;32mdef\u001b[0m \u001b[0m_make_engine\u001b[0m\u001b[0;34m(\u001b[0m\u001b[0mself\u001b[0m\u001b[0;34m,\u001b[0m \u001b[0mengine\u001b[0m\u001b[0;34m=\u001b[0m\u001b[0;34m\"c\"\u001b[0m\u001b[0;34m)\u001b[0m\u001b[0;34m:\u001b[0m\u001b[0;34m\u001b[0m\u001b[0;34m\u001b[0m\u001b[0m\n\u001b[1;32m   1179\u001b[0m         \u001b[0;32mif\u001b[0m \u001b[0mengine\u001b[0m \u001b[0;34m==\u001b[0m \u001b[0;34m\"c\"\u001b[0m\u001b[0;34m:\u001b[0m\u001b[0;34m\u001b[0m\u001b[0;34m\u001b[0m\u001b[0m\n\u001b[0;32m-> 1180\u001b[0;31m             \u001b[0mself\u001b[0m\u001b[0;34m.\u001b[0m\u001b[0m_engine\u001b[0m \u001b[0;34m=\u001b[0m \u001b[0mCParserWrapper\u001b[0m\u001b[0;34m(\u001b[0m\u001b[0mself\u001b[0m\u001b[0;34m.\u001b[0m\u001b[0mf\u001b[0m\u001b[0;34m,\u001b[0m \u001b[0;34m**\u001b[0m\u001b[0mself\u001b[0m\u001b[0;34m.\u001b[0m\u001b[0moptions\u001b[0m\u001b[0;34m)\u001b[0m\u001b[0;34m\u001b[0m\u001b[0;34m\u001b[0m\u001b[0m\n\u001b[0m\u001b[1;32m   1181\u001b[0m         \u001b[0;32melse\u001b[0m\u001b[0;34m:\u001b[0m\u001b[0;34m\u001b[0m\u001b[0;34m\u001b[0m\u001b[0m\n\u001b[1;32m   1182\u001b[0m             \u001b[0;32mif\u001b[0m \u001b[0mengine\u001b[0m \u001b[0;34m==\u001b[0m \u001b[0;34m\"python\"\u001b[0m\u001b[0;34m:\u001b[0m\u001b[0;34m\u001b[0m\u001b[0;34m\u001b[0m\u001b[0m\n",
            "\u001b[0;32m/usr/local/lib/python3.7/dist-packages/pandas/io/parsers.py\u001b[0m in \u001b[0;36m__init__\u001b[0;34m(self, src, **kwds)\u001b[0m\n\u001b[1;32m   2008\u001b[0m         \u001b[0mkwds\u001b[0m\u001b[0;34m[\u001b[0m\u001b[0;34m\"usecols\"\u001b[0m\u001b[0;34m]\u001b[0m \u001b[0;34m=\u001b[0m \u001b[0mself\u001b[0m\u001b[0;34m.\u001b[0m\u001b[0musecols\u001b[0m\u001b[0;34m\u001b[0m\u001b[0;34m\u001b[0m\u001b[0m\n\u001b[1;32m   2009\u001b[0m \u001b[0;34m\u001b[0m\u001b[0m\n\u001b[0;32m-> 2010\u001b[0;31m         \u001b[0mself\u001b[0m\u001b[0;34m.\u001b[0m\u001b[0m_reader\u001b[0m \u001b[0;34m=\u001b[0m \u001b[0mparsers\u001b[0m\u001b[0;34m.\u001b[0m\u001b[0mTextReader\u001b[0m\u001b[0;34m(\u001b[0m\u001b[0msrc\u001b[0m\u001b[0;34m,\u001b[0m \u001b[0;34m**\u001b[0m\u001b[0mkwds\u001b[0m\u001b[0;34m)\u001b[0m\u001b[0;34m\u001b[0m\u001b[0;34m\u001b[0m\u001b[0m\n\u001b[0m\u001b[1;32m   2011\u001b[0m         \u001b[0mself\u001b[0m\u001b[0;34m.\u001b[0m\u001b[0munnamed_cols\u001b[0m \u001b[0;34m=\u001b[0m \u001b[0mself\u001b[0m\u001b[0;34m.\u001b[0m\u001b[0m_reader\u001b[0m\u001b[0;34m.\u001b[0m\u001b[0munnamed_cols\u001b[0m\u001b[0;34m\u001b[0m\u001b[0;34m\u001b[0m\u001b[0m\n\u001b[1;32m   2012\u001b[0m \u001b[0;34m\u001b[0m\u001b[0m\n",
            "\u001b[0;32mpandas/_libs/parsers.pyx\u001b[0m in \u001b[0;36mpandas._libs.parsers.TextReader.__cinit__\u001b[0;34m()\u001b[0m\n",
            "\u001b[0;32mpandas/_libs/parsers.pyx\u001b[0m in \u001b[0;36mpandas._libs.parsers.TextReader._setup_parser_source\u001b[0;34m()\u001b[0m\n",
            "\u001b[0;31mFileNotFoundError\u001b[0m: [Errno 2] No such file or directory: 'BL-Flickr-Images-Book.csv'"
          ]
        }
      ]
    },
    {
      "cell_type": "markdown",
      "metadata": {
        "id": "IWbf092hld2I"
      },
      "source": [
        "We just read the data file! It looks really pretty compared to the raw csv file, but how are we supposed to use it? Oops, how are we supposed to save it. This is where variables come in. Just like any other data structure, you can save the file into a variable. This variable is called a DataFrame, and is most commonly called 'df'. However, you can call it whatever you like. In addition to saving it this time, we can also use the '.head()' function to display the data as well"
      ]
    },
    {
      "cell_type": "code",
      "metadata": {
        "id": "zFlSO23ild2J"
      },
      "source": [
        "df = pd.read_csv('BL-Flickr-Images-Book.csv')\n",
        "#We're going to be using this second dataframe for future parts of the workshop\n",
        "height_df = pd.read_csv('heights.txt', sep=' ') #By specifying how the data is separated, it allows us to read this .txt file\n",
        "df.head() #Shows the first 5 rows of data.  \n",
        "\n",
        "\n",
        "#You can put any number you want in the parenthesis and this will change the number of rows displayed"
      ],
      "execution_count": null,
      "outputs": []
    },
    {
      "cell_type": "markdown",
      "metadata": {
        "id": "-AoMFvjCld2K"
      },
      "source": [
        "## Reading and understanding our data\n",
        "Being able to understand what our data is is the most important part of being able to work with it. We already used the .head function, but lets look at it again with our height dataset."
      ]
    },
    {
      "cell_type": "code",
      "metadata": {
        "id": "fA9pcLA7ld2K"
      },
      "source": [
        "height_df.head()"
      ],
      "execution_count": null,
      "outputs": []
    },
    {
      "cell_type": "markdown",
      "metadata": {
        "id": "N1I9fDA9ld2L"
      },
      "source": [
        "We can also display aspects of our data in different ways as well. For example, if we wanted to find the names of our columns, we can find those in our dataframe like so:"
      ]
    },
    {
      "cell_type": "code",
      "metadata": {
        "id": "AX_OJh_rld2L"
      },
      "source": [
        "print(height_df.columns.values)"
      ],
      "execution_count": null,
      "outputs": []
    },
    {
      "cell_type": "markdown",
      "metadata": {
        "id": "yW6eqd-Eld2M"
      },
      "source": [
        "When we start getting into more complicated topics such as machine learning, understanding how big your data becomes extremely important as well. We can use this information by using '.shape'. This return a tuple with the first value representing the number of rows, and the second number representing the number of columns."
      ]
    },
    {
      "cell_type": "code",
      "metadata": {
        "id": "ubGo5idxld2N"
      },
      "source": [
        "height_df.shape"
      ],
      "execution_count": null,
      "outputs": []
    },
    {
      "cell_type": "markdown",
      "metadata": {
        "id": "KDarBsUild2P"
      },
      "source": [
        "If we wanted to find out more about an individual row, we can do so by using the brackets like this. Notice how there's only one number because there is only 1 column"
      ]
    },
    {
      "cell_type": "code",
      "metadata": {
        "id": "Pkq2sQ3Hld2P"
      },
      "source": [
        "height_df['Mheight'].shape"
      ],
      "execution_count": null,
      "outputs": []
    },
    {
      "cell_type": "markdown",
      "metadata": {
        "id": "7AecUPIuld2P"
      },
      "source": [
        "Perhaps we wanted to find out how many items show up in each row. We can do so using value_counts"
      ]
    },
    {
      "cell_type": "code",
      "metadata": {
        "id": "nNimkF6ald2Q"
      },
      "source": [
        "height_df['Mheight'].value_counts()"
      ],
      "execution_count": null,
      "outputs": []
    },
    {
      "cell_type": "markdown",
      "metadata": {
        "id": "pPC0Pdo8ld2Q"
      },
      "source": [
        "Lets say that we wanted to find what kind of values are in the data without seeing all of them repeat. We can do so using the unique() function"
      ]
    },
    {
      "cell_type": "code",
      "metadata": {
        "id": "R3aalP_yld2R"
      },
      "source": [
        "height_df['Dheight'].unique()"
      ],
      "execution_count": null,
      "outputs": []
    },
    {
      "cell_type": "markdown",
      "metadata": {
        "id": "_507op07ld2R"
      },
      "source": [
        "Finally, lets look at the 5 number summary for the Mheight data"
      ]
    },
    {
      "cell_type": "code",
      "metadata": {
        "id": "jnB57-Fxld2R"
      },
      "source": [
        "heightSum = height_df['Mheight'].quantile([0.0, 0.25,0.5,0.75, 1.0])\n",
        "heightSum"
      ],
      "execution_count": null,
      "outputs": []
    },
    {
      "cell_type": "markdown",
      "metadata": {
        "id": "_EovvknTld2S"
      },
      "source": [
        "We can also pull a bunch of other usefull information out of the data as well"
      ]
    },
    {
      "cell_type": "code",
      "metadata": {
        "id": "V7AENFMZld2S"
      },
      "source": [
        "print(height_df['Mheight'].mean())\n",
        "print(height_df['Mheight'].std())\n",
        "print(height_df['Mheight'].sem())"
      ],
      "execution_count": null,
      "outputs": []
    },
    {
      "cell_type": "markdown",
      "metadata": {
        "id": "j0pWGFURld2S"
      },
      "source": [
        "## Data Cleaning: Data Manipuation and Data Cleaning\n",
        "\n",
        "One thing you'll notice once we have our data is that there is a lot of 'NaN' (Not a Number) values in our data. This means that data doesn't exist for these collumns. You'll also notice that there are a lot of pretty useless rows that while may be useful for other purposes, we may not need for this workshop. We can remove or 'drop' this data in several ways\n",
        "\n",
        "We can explicitly drop the desired columns:"
      ]
    },
    {
      "cell_type": "code",
      "metadata": {
        "id": "eAceGb5qld2T"
      },
      "source": [
        "df = pd.read_csv('BL-Flickr-Images-Book.csv') # This line basically resets our dataframe so that we can see the drop happen\n",
        "to_drop = ['Edition Statement',\n",
        "            'Corporate Author',\n",
        "            'Corporate Contributors',\n",
        "            'Former owner',\n",
        "            'Engraver',\n",
        "            'Contributors',\n",
        "           'Issuance type',\n",
        "            'Shelfmarks'] # This creates a list of the columns that we want to drop\n",
        "\n",
        "df.drop(columns=to_drop, inplace=True)\n",
        "#This drops our columns, dropping the columns in 'df' that have the names in our 'to_drop list'\n",
        "#inplace = True signifies that we want to change the original variable 'df' instead of creating a new variable"
      ],
      "execution_count": null,
      "outputs": []
    },
    {
      "cell_type": "markdown",
      "metadata": {
        "id": "ViQoA4Jdld2U"
      },
      "source": [
        "We can also drop the 'NaN' values to make the data cleaner to work with:"
      ]
    },
    {
      "cell_type": "code",
      "metadata": {
        "id": "Qbo-fX72ld2U"
      },
      "source": [
        "df = pd.read_csv('BL-Flickr-Images-Book.csv') # This line basically resets our dataframe so that we can see the drop happen\n",
        "df.dropna()"
      ],
      "execution_count": null,
      "outputs": []
    },
    {
      "cell_type": "markdown",
      "metadata": {
        "id": "LdB5n710ld2V"
      },
      "source": [
        ".dropna() drops every single row with an 'NaN' value, which in this case happens to be all of them. Oops, lets reset that."
      ]
    },
    {
      "cell_type": "code",
      "metadata": {
        "id": "JwhDdUbSld2V"
      },
      "source": [
        "df = pd.read_csv('BL-Flickr-Images-Book.csv') # This line basically resets our dataframe so that we can see the drop happen\n",
        "df"
      ],
      "execution_count": null,
      "outputs": []
    },
    {
      "cell_type": "markdown",
      "metadata": {
        "id": "p8-5WXKVld2V"
      },
      "source": [
        "## I can show you the world: Data Visualization in Python\n",
        "\n",
        "Data visualization is one of the most important aspects of doing data science and quantitative finance. In order to do data visualization, we first have to add the right tools to our toolbelt. There are many tools that can be used to visualize data, some better than others. For this workshop we are going to be using matplotlib.pyplot, and calling it plt for short. We're also going to be using a different data set, the 'heights.txt' dataset for this part."
      ]
    },
    {
      "cell_type": "code",
      "metadata": {
        "id": "mgxCbZTkld2W",
        "outputId": "d9e35664-b1b5-4499-eaa6-1275b106a689"
      },
      "source": [
        "import matplotlib.pyplot as plt\n",
        "height_df"
      ],
      "execution_count": null,
      "outputs": [
        {
          "output_type": "execute_result",
          "data": {
            "text/html": [
              "<div>\n",
              "<style scoped>\n",
              "    .dataframe tbody tr th:only-of-type {\n",
              "        vertical-align: middle;\n",
              "    }\n",
              "\n",
              "    .dataframe tbody tr th {\n",
              "        vertical-align: top;\n",
              "    }\n",
              "\n",
              "    .dataframe thead th {\n",
              "        text-align: right;\n",
              "    }\n",
              "</style>\n",
              "<table border=\"1\" class=\"dataframe\">\n",
              "  <thead>\n",
              "    <tr style=\"text-align: right;\">\n",
              "      <th></th>\n",
              "      <th>Mheight</th>\n",
              "      <th>Dheight</th>\n",
              "    </tr>\n",
              "  </thead>\n",
              "  <tbody>\n",
              "    <tr>\n",
              "      <th>0</th>\n",
              "      <td>59.7</td>\n",
              "      <td>55.1</td>\n",
              "    </tr>\n",
              "    <tr>\n",
              "      <th>1</th>\n",
              "      <td>58.2</td>\n",
              "      <td>56.5</td>\n",
              "    </tr>\n",
              "    <tr>\n",
              "      <th>2</th>\n",
              "      <td>60.6</td>\n",
              "      <td>56.0</td>\n",
              "    </tr>\n",
              "    <tr>\n",
              "      <th>3</th>\n",
              "      <td>60.7</td>\n",
              "      <td>56.8</td>\n",
              "    </tr>\n",
              "    <tr>\n",
              "      <th>4</th>\n",
              "      <td>61.8</td>\n",
              "      <td>56.0</td>\n",
              "    </tr>\n",
              "    <tr>\n",
              "      <th>...</th>\n",
              "      <td>...</td>\n",
              "      <td>...</td>\n",
              "    </tr>\n",
              "    <tr>\n",
              "      <th>1370</th>\n",
              "      <td>69.1</td>\n",
              "      <td>70.1</td>\n",
              "    </tr>\n",
              "    <tr>\n",
              "      <th>1371</th>\n",
              "      <td>65.0</td>\n",
              "      <td>71.6</td>\n",
              "    </tr>\n",
              "    <tr>\n",
              "      <th>1372</th>\n",
              "      <td>66.3</td>\n",
              "      <td>71.4</td>\n",
              "    </tr>\n",
              "    <tr>\n",
              "      <th>1373</th>\n",
              "      <td>70.8</td>\n",
              "      <td>71.0</td>\n",
              "    </tr>\n",
              "    <tr>\n",
              "      <th>1374</th>\n",
              "      <td>63.0</td>\n",
              "      <td>73.1</td>\n",
              "    </tr>\n",
              "  </tbody>\n",
              "</table>\n",
              "<p>1375 rows × 2 columns</p>\n",
              "</div>"
            ],
            "text/plain": [
              "      Mheight  Dheight\n",
              "0        59.7     55.1\n",
              "1        58.2     56.5\n",
              "2        60.6     56.0\n",
              "3        60.7     56.8\n",
              "4        61.8     56.0\n",
              "...       ...      ...\n",
              "1370     69.1     70.1\n",
              "1371     65.0     71.6\n",
              "1372     66.3     71.4\n",
              "1373     70.8     71.0\n",
              "1374     63.0     73.1\n",
              "\n",
              "[1375 rows x 2 columns]"
            ]
          },
          "metadata": {
            "tags": []
          },
          "execution_count": 22
        }
      ]
    },
    {
      "cell_type": "markdown",
      "metadata": {
        "id": "G-PSeRqSld2W"
      },
      "source": [
        "We can visualize this data in several different ways. Two of the most common are histograms, boxplots, and scatterplots and can be done as shown:"
      ]
    },
    {
      "cell_type": "code",
      "metadata": {
        "id": "zMfidiYbld2X",
        "outputId": "9299098e-f9cb-4722-c3ce-d1e7f0e69374"
      },
      "source": [
        "#Boxplots represent the number of occurrences in the data, for example, there were a little under 350 Mothers with a height of 63\n",
        "height_df.hist()\n",
        "#plt.show()"
      ],
      "execution_count": null,
      "outputs": [
        {
          "output_type": "execute_result",
          "data": {
            "text/plain": [
              "array([[<matplotlib.axes._subplots.AxesSubplot object at 0x0000022A927663D0>,\n",
              "        <matplotlib.axes._subplots.AxesSubplot object at 0x0000022A927B2880>]],\n",
              "      dtype=object)"
            ]
          },
          "metadata": {
            "tags": []
          },
          "execution_count": 23
        },
        {
          "output_type": "display_data",
          "data": {
            "image/png": "[encoded data removed]",
            "text/plain": [
              "<Figure size 432x288 with 2 Axes>"
            ]
          },
          "metadata": {
            "tags": [],
            "needs_background": "light"
          }
        }
      ]
    },
    {
      "cell_type": "code",
      "metadata": {
        "id": "cuE5yFlKld2X",
        "outputId": "69cd284f-b6dc-4d61-e12f-109d86ea1e27"
      },
      "source": [
        "#Scatterplots can help visualize the points in the sample, the X axis is Mother hight and the Y axis is the daughter height\n",
        "height_df.plot.scatter(x='Mheight', y='Dheight')"
      ],
      "execution_count": null,
      "outputs": [
        {
          "output_type": "execute_result",
          "data": {
            "text/plain": [
              "<matplotlib.axes._subplots.AxesSubplot at 0x22a9286b6a0>"
            ]
          },
          "metadata": {
            "tags": []
          },
          "execution_count": 24
        },
        {
          "output_type": "display_data",
          "data": {
            "image/png": "[encoded data removed]",
            "text/plain": [
              "<Figure size 432x288 with 1 Axes>"
            ]
          },
          "metadata": {
            "tags": [],
            "needs_background": "light"
          }
        }
      ]
    },
    {
      "cell_type": "code",
      "metadata": {
        "id": "RUGCevFMld2X",
        "outputId": "8ba57868-ee81-4fe2-dbf9-04cf5a3653f3"
      },
      "source": [
        "plt.boxplot(height_df['Mheight'])"
      ],
      "execution_count": null,
      "outputs": [
        {
          "output_type": "execute_result",
          "data": {
            "text/plain": [
              "{'whiskers': [<matplotlib.lines.Line2D at 0x22a929547f0>,\n",
              "  <matplotlib.lines.Line2D at 0x22a92954b50>],\n",
              " 'caps': [<matplotlib.lines.Line2D at 0x22a92954eb0>,\n",
              "  <matplotlib.lines.Line2D at 0x22a92966250>],\n",
              " 'boxes': [<matplotlib.lines.Line2D at 0x22a92954490>],\n",
              " 'medians': [<matplotlib.lines.Line2D at 0x22a929665b0>],\n",
              " 'fliers': [<matplotlib.lines.Line2D at 0x22a929668b0>],\n",
              " 'means': []}"
            ]
          },
          "metadata": {
            "tags": []
          },
          "execution_count": 25
        },
        {
          "output_type": "display_data",
          "data": {
            "image/png": "[encoded data removed]",
            "text/plain": [
              "<Figure size 432x288 with 1 Axes>"
            ]
          },
          "metadata": {
            "tags": [],
            "needs_background": "light"
          }
        }
      ]
    },
    {
      "cell_type": "markdown",
      "metadata": {
        "id": "GojJ5cajld2Y"
      },
      "source": [
        "Compare this with the 5 number summary, and see the way that it matches up perfectly"
      ]
    },
    {
      "cell_type": "code",
      "metadata": {
        "id": "RyG1TOTRld2Y",
        "outputId": "675593c8-1ccd-445a-eb7b-938dd6900424"
      },
      "source": [
        "heightSum"
      ],
      "execution_count": null,
      "outputs": [
        {
          "output_type": "execute_result",
          "data": {
            "text/plain": [
              "0.00    55.4\n",
              "0.25    60.8\n",
              "0.50    62.4\n",
              "0.75    63.9\n",
              "1.00    70.8\n",
              "Name: Mheight, dtype: float64"
            ]
          },
          "metadata": {
            "tags": []
          },
          "execution_count": 26
        }
      ]
    },
    {
      "cell_type": "markdown",
      "metadata": {
        "id": "mPeI2gxvld2Y"
      },
      "source": [
        "## Hypothesis Testing in Python\n",
        "\n",
        "Hypothesis testing is arguably the most important and foundational part of statistics. This next section is going to be a bunch of math, but while you take the time to learn it, Python will end up doing most of the heavy lifting for you! There are many more tests than just these, but these are the most basic to know. Most of the basic hypotheses tests will be done using scipy.stats."
      ]
    },
    {
      "cell_type": "code",
      "metadata": {
        "id": "a0bpNnmzld2Z"
      },
      "source": [
        "import scipy.stats as st"
      ],
      "execution_count": null,
      "outputs": []
    },
    {
      "cell_type": "markdown",
      "metadata": {
        "id": "TZJ385hNld2Z"
      },
      "source": [
        "### Creating a hypothesis\n",
        "The first step in testing a hypothesis is to create one. In statistics, we have two hypotheses, the null hypothesis and the alternative hypothesis, namely\n",
        "\n",
        "$\n",
        "H_0 : Null \\ Hypothesis:  \\ What \\ is \\ generally \\ accepted \\\\\n",
        "H_1 : Alternative \\ Hypothesis: \\ What \\ we \\ are \\ trying \\ to \\ prove \\\\\n",
        "$\n",
        "\n",
        "Generally, the null hypothesis holds unless the can successfully reject the null hypothesis. In the case that we do not reject the null hypothesis it is important that we do not accept the null hypothesis. This distinction is important because us not proving that our alternative hypothesis holds at a given signficance level does not prove the strength of the alternative\n",
        "\n",
        "### What does a hypothesis test do\n",
        "Essentially, hypothesis testing is a tool in inferential statistics for determining what the value of a population parameter based on a sample. Statisticians take a very pessimistic view, and require a certain statistical significance of deviation from the norm within the sample in order to reject the null hypothesis. This statistical significance is called alpha, $\\alpha$. This $\\alpha$ differs from quantitative finance alpha, as statistical alpha represents the significance level of a hypothesis test, while the quantitative finance alpha measures excess portfolio returns. It's unfortunate that they use the same variable since they are both so important to quantitative traders, but it is what it is.\n",
        "\n",
        "\n",
        "The hypotheses tests return two things. The first is the z/t score, which signifies a "
      ]
    },
    {
      "cell_type": "markdown",
      "metadata": {
        "id": "bO-BsTFCld2Z"
      },
      "source": [
        "### One Sample Hypothesis Tests\n",
        "The most basic of hypotheses tests are the one sample z test and the one sample t test. This is generally used when we want to compare the outcome of a sample to a given population. For example if we wanted to compare the mean height of women to a sample of women's heights. Generally the difference between one sample z tests and t tests is that z-tests deal with sample sizes greater than 30 and t-tests are more applicable to samples of size less than 30.\n",
        "\n",
        "The one sample z test is given by the equation:\n",
        "\n",
        "$$\n",
        " z = {{\\bar{x} - \\mu} \\over \\sigma / \\sqrt n}\n",
        "$$\n",
        "where\n",
        "$\n",
        "\\bar{x} : the \\ mean \\ of \\ the \\ sample \\\\\n",
        "\\mu : the \\ mean \\ of \\ the \\ population \\\\\n",
        "\\sigma : The \\ standard \\ deviation \\ of \\ the \\ population\\\\\n",
        "n : the \\ sample \\ size \\\\\n",
        "$\n",
        "The one sample t test is given by the equation:\n",
        "$$\n",
        " t = {{\\bar{x} - \\mu} \\over s / \\sqrt n}\n",
        "$$\n",
        "$\n",
        "\\bar{x} : the \\ mean \\ of \\ the \\ sample \\\\\n",
        "\\mu : the \\ mean \\ of \\ the \\ population \\\\\n",
        "\\sigma : The \\ standard \\ deviation \\ of \\ the \\ sample\\\\\n",
        "n : the \\ sample \\ size\n",
        "$\n"
      ]
    },
    {
      "cell_type": "markdown",
      "metadata": {
        "id": "Ls-0TCdeld2a"
      },
      "source": [
        "When doing this in python, it becomes a lot easier. Lets say that we wanted to do a one sample proportion z-test, we would do it like so:"
      ]
    },
    {
      "cell_type": "code",
      "metadata": {
        "id": "1VCd_Vvxld2a",
        "outputId": "61a2ecac-98bf-482a-d221-56d3d360cd80"
      },
      "source": [
        "import statsmodels.api as sm\n",
        "\n",
        "n = 1018\n",
        "mu = .52\n",
        "xbar = .56\n",
        "\n",
        "t, p = sm.stats.proportions_ztest(xbar * n, n, mu, alternative='larger')\n",
        "print(\"The t statistic is:\" , t)\n",
        "print(\"The p value is: \", p)\n",
        "#>> (2.571067795759113, 0.005069273865860533)"
      ],
      "execution_count": null,
      "outputs": [
        {
          "output_type": "stream",
          "text": [
            "The t statistic is: 2.571067795759113\n",
            "The p value is:  0.005069273865860533\n"
          ],
          "name": "stdout"
        }
      ]
    },
    {
      "cell_type": "markdown",
      "metadata": {
        "id": "WHvUzLX5ld2a"
      },
      "source": [
        "If we wanted to do a one sample t-test, we would do it like so"
      ]
    },
    {
      "cell_type": "code",
      "metadata": {
        "id": "9HEIwXs6ld2b",
        "outputId": "88a278bb-f86d-4489-a7a1-2b261c5c85ea"
      },
      "source": [
        "sample = height_df['Mheight']\n",
        "popmean = 60 #Some number that represents the null hypothesis' population mean\n",
        "\n",
        "st.ttest_1samp(sample, popmean = popmean)"
      ],
      "execution_count": null,
      "outputs": [
        {
          "output_type": "execute_result",
          "data": {
            "text/plain": [
              "Ttest_1sampResult(statistic=38.61922284646361, pvalue=1.5148291124750557e-221)"
            ]
          },
          "metadata": {
            "tags": []
          },
          "execution_count": 36
        }
      ]
    },
    {
      "cell_type": "markdown",
      "metadata": {
        "id": "9GsORj-Gld2b"
      },
      "source": [
        "### Two Sample Hypotheses Tests\n",
        "In addition to 1 sample tests, there are also 2 sample tests. These tests are usually called 'difference in means' tests, and measure how similar two samples are. For these tests, the null and alternative hypotheses are as follows:\n",
        "\n",
        "$\n",
        "H_0: \\mu_1 = \\mu_2 \\\\\n",
        "\\\\\n",
        "H_1: \\mu_1 \\neq \\mu_2 \\\\ \\\\\n",
        "$\n",
        "And here are the equations for each difference in means test"
      ]
    },
    {
      "cell_type": "markdown",
      "metadata": {
        "id": "3t9BNnqgld2b"
      },
      "source": [
        "![image-2.png](attachment:image-2.png)\n",
        "While these equations may look intimidating, python makes hypothesis testing extremely easy as well!"
      ]
    },
    {
      "cell_type": "markdown",
      "metadata": {
        "id": "VvRtT0FCld2b"
      },
      "source": [
        "Two sample Z test"
      ]
    },
    {
      "cell_type": "code",
      "metadata": {
        "id": "uMC8gyhild2c",
        "outputId": "f3040f73-b6fa-402f-ccff-b367083c448b"
      },
      "source": [
        "import statsmodels.stats as sm\n",
        "sm.weightstats.ztest(height_df['Mheight'],  height_df['Dheight'])"
      ],
      "execution_count": null,
      "outputs": [
        {
          "output_type": "execute_result",
          "data": {
            "text/plain": [
              "(-13.722678632777303, 7.426998142838605e-43)"
            ]
          },
          "metadata": {
            "tags": []
          },
          "execution_count": 35
        }
      ]
    },
    {
      "cell_type": "markdown",
      "metadata": {
        "id": "EJrMCnNTld2c"
      },
      "source": [
        "Two sample t test"
      ]
    },
    {
      "cell_type": "code",
      "metadata": {
        "id": "l7pOLK1uld2d",
        "outputId": "25345f74-9dd2-4b67-df70-681d1babeede"
      },
      "source": [
        "st.ttest_ind(height_df['Mheight'], height_df['Dheight'])"
      ],
      "execution_count": null,
      "outputs": [
        {
          "output_type": "execute_result",
          "data": {
            "text/plain": [
              "Ttest_indResult(statistic=-13.722678632777303, pvalue=1.6801967841194503e-41)"
            ]
          },
          "metadata": {
            "tags": []
          },
          "execution_count": 21
        }
      ]
    },
    {
      "cell_type": "markdown",
      "metadata": {
        "id": "-tzl6aGtld2d"
      },
      "source": [
        "# Confidence Intervals\n",
        "\n",
        "Confidence intervals are serve the important role of allowing us to approximate with our data. It allows us to say \"I'm the true value of something that I'm measuring most likely falls between a and b.\" It also allows us to qualify it numerically, and say \"I'm 95% confident that the true value of a parameter falls between a and b.\" Confidence intervals and its formula differs based on the data and the type of situation it's being used in. "
      ]
    },
    {
      "cell_type": "markdown",
      "metadata": {
        "id": "MnXVn6Avld2e"
      },
      "source": [
        "### One sample Confidence Intervals\n",
        "The main goal for one sample Confidence intervals is to be able to say \"I am some % certain that the mean is within this interval\" One sample confidnece intervals are mathematically calculated using these equations: \n",
        "![image.png](attachment:image.png)\n",
        "\n",
        "For example, we can say that we are 95% certain that the mean value of Mother height is between [62.328, 62.577]"
      ]
    },
    {
      "cell_type": "code",
      "metadata": {
        "id": "oqpNZpnyld2e",
        "outputId": "7c26a5e1-7984-4e46-e496-7146042d39e5"
      },
      "source": [
        "confidence = .95\n",
        "degrees_of_freedom = height_df['Mheight'].shape[0] - 1\n",
        "mean = np.mean(height_df['Mheight'])\n",
        "standard_error = st.sem(height_df['Mheight'])\n",
        "print(\"Our confidence interval is: \", st.t.interval(confidence, degrees_of_freedom, loc = mean, scale = standard_error))"
      ],
      "execution_count": null,
      "outputs": [
        {
          "output_type": "stream",
          "text": [
            "Our confidence interval is:  (62.328208207548755, 62.57739179245125)\n"
          ],
          "name": "stdout"
        }
      ]
    },
    {
      "cell_type": "markdown",
      "metadata": {
        "id": "mXwuN8TTld2f"
      },
      "source": [
        "### Two Sample Confidence Intervals\n",
        "\n",
        "Similar to the two sample hypothesis tests, there are three kinds of two-sample confidence intervals, the first is the two sample z test, and the second two are the two sample t-test with known population mean, and the two sample t-test with an unknown population mean. In this order, these are their respective equations:\n",
        "![image.png](attachment:image.png)\n",
        "\n",
        "The most commonly used two sample confidence interval is with unknown population, and can be easily found in Python like this:\n"
      ]
    },
    {
      "cell_type": "code",
      "metadata": {
        "id": "yUlizfRWld2g",
        "outputId": "53eb5e4c-a5a8-4cdb-a842-b3f4b819ffa4",
        "colab": {
          "base_uri": "https://localhost:8080/"
        }
      },
      "source": [
        "mean = height_df['Mheight'].mean() - height_df['Dheight'].mean()\n",
        "n1 = len(height_df['Mheight'])\n",
        "n2 = len(height_df['Dheight'])\n",
        "sem = (np.sqrt((n1-1)*height_df['Mheight'].sem()**2 + (n2-1)*height_df['Dheight'].sem()**2)/(n1+n2-2))*(np.sqrt(1/n1 + 1/n2))\n",
        "lcb = mean - 1.96*sem  #lower limit of the CI\n",
        "ucb = mean + 1.96*sem  #upper limit of the CI\n",
        "(lcb, ucb)"
      ],
      "execution_count": 31,
      "outputs": [
        {
          "output_type": "execute_result",
          "data": {
            "text/plain": [
              "(-1.2983499386323698, -1.29815915227654)"
            ]
          },
          "metadata": {
            "tags": []
          },
          "execution_count": 31
        }
      ]
    },
    {
      "cell_type": "markdown",
      "metadata": {
        "id": "K4oS0AB1ld2h"
      },
      "source": [
        "# Do it yourself\n",
        "\n",
        "\n",
        "Now that we've seen all of the cool things that we can do, why don't we try it ourselves! Lets say that we are given data 'leadstudy' that measures the iq of people in the US who have been exposed to lead, and we want to see if the average IQ of these people are greater than 100.\n",
        "\n",
        "**First, read in 'leadstudy.csv' into a dataframe and display the first 7 rows**"
      ]
    },
    {
      "cell_type": "code",
      "metadata": {
        "id": "JVjQMhHold2h"
      },
      "source": [
        "df = pd.read_csv(\"leadstudy.csv\")"
      ],
      "execution_count": 32,
      "outputs": []
    },
    {
      "cell_type": "markdown",
      "metadata": {
        "id": "Cpd39ZkGld2i"
      },
      "source": [
        "**Next, create a histogram of the 'fulliq' column to see the distribution of the data**"
      ]
    },
    {
      "cell_type": "code",
      "metadata": {
        "id": "bpiveTkGld2i",
        "outputId": "545cd0cc-4adf-4e64-d7c8-a74be21a609a",
        "colab": {
          "base_uri": "https://localhost:8080/",
          "height": 282
        }
      },
      "source": [
        "df[\"fulliq\"].hist()"
      ],
      "execution_count": 53,
      "outputs": [
        {
          "output_type": "execute_result",
          "data": {
            "text/plain": [
              "<matplotlib.axes._subplots.AxesSubplot at 0x7f9025f32c50>"
            ]
          },
          "metadata": {
            "tags": []
          },
          "execution_count": 53
        },
        {
          "output_type": "display_data",
          "data": {
            "image/png": "[encoded data removed]",
            "text/plain": [
              "<Figure size 432x288 with 1 Axes>"
            ]
          },
          "metadata": {
            "tags": [],
            "needs_background": "light"
          }
        }
      ]
    },
    {
      "cell_type": "markdown",
      "metadata": {
        "id": "MBWTGZd4ld2j"
      },
      "source": [
        "**Now, find the sample size, mean, standard deviation and standard error for 'fulliq'**"
      ]
    },
    {
      "cell_type": "code",
      "metadata": {
        "id": "33jidvt_ld2j",
        "outputId": "63689917-408d-4467-c530-5ddfc837ed99",
        "colab": {
          "base_uri": "https://localhost:8080/"
        }
      },
      "source": [
        "df[\"fulliq\"].shape\r\n",
        "df[\"fulliq\"].mean()\r\n"
      ],
      "execution_count": 54,
      "outputs": [
        {
          "output_type": "execute_result",
          "data": {
            "text/plain": [
              "91.08064516129032"
            ]
          },
          "metadata": {
            "tags": []
          },
          "execution_count": 54
        }
      ]
    },
    {
      "cell_type": "markdown",
      "metadata": {
        "id": "eEVy_2srld2k"
      },
      "source": [
        "**Then, create a 95% confidence interval for the mean value of 'fulliq' for this population**"
      ]
    },
    {
      "cell_type": "code",
      "metadata": {
        "id": "k9pIzDbfld2k",
        "outputId": "7e704a88-20d1-4f3a-9466-66f36fb53b1e",
        "colab": {
          "base_uri": "https://localhost:8080/"
        }
      },
      "source": [
        "confidence = .95\r\n",
        "degrees_of_freedom = df['fulliq'].shape[0] - 1\r\n",
        "mean = np.mean(df['fulliq'])\r\n",
        "standard_error = st.sem(df['fulliq'])\r\n",
        "print(\"Our confidence interval is: \", st.t.interval(confidence, degrees_of_freedom, loc = mean, scale = standard_error))"
      ],
      "execution_count": 52,
      "outputs": [
        {
          "output_type": "stream",
          "text": [
            "Our confidence interval is:  (88.52021975317433, 93.64107056940631)\n"
          ],
          "name": "stdout"
        }
      ]
    },
    {
      "cell_type": "markdown",
      "metadata": {
        "id": "IExCU5Yrld2k"
      },
      "source": [
        "**Finally, based on these results, determine whether or not the population mean is significantly different from the sample at an $\\alpha$ of 0.05**"
      ]
    },
    {
      "cell_type": "code",
      "metadata": {
        "id": "tMlb0e6Ald2k"
      },
      "source": [
        "hypothesis is 100, then is different from sample"
      ],
      "execution_count": null,
      "outputs": []
    },
    {
      "cell_type": "markdown",
      "metadata": {
        "id": "3x8GXD1Ald2l"
      },
      "source": [
        "Great! you're getting the hang of it. Now lets try to compare the two groups with different levels of lead exposure (lead < 40, and lead >= 40). Let's say that we wanted to see if there was a statistically significant difference between IQ's of the two. How would we go about doing that? Remember that you're free to look at the equations we used previously. \n",
        "\n",
        "**First print the null and alternative hypotheses.**"
      ]
    },
    {
      "cell_type": "code",
      "metadata": {
        "id": "G8S8dfn3ld2l",
        "outputId": "02b4465d-ee43-463e-a3a6-b34beed31145",
        "colab": {
          "base_uri": "https://localhost:8080/"
        }
      },
      "source": [
        "print (\"H0, less40 = more40\")\r\n",
        "print (\"H1, less4- not = more40\")"
      ],
      "execution_count": 55,
      "outputs": [
        {
          "output_type": "stream",
          "text": [
            "H0, less40 = more40\n",
            "H1, less4- not = more40\n"
          ],
          "name": "stdout"
        }
      ]
    },
    {
      "cell_type": "markdown",
      "metadata": {
        "id": "iwh_yBykld2l"
      },
      "source": [
        "**Next, perform the appropriate t-test to find t he t-test statistic and the p-value**"
      ]
    },
    {
      "cell_type": "code",
      "metadata": {
        "id": "tR5_lbQmld2l",
        "outputId": "f4ac7e6a-168f-44a8-d7de-c1056a858bf8",
        "colab": {
          "base_uri": "https://localhost:8080/"
        }
      },
      "source": [
        "st.ttest_ind(df[df['group'] == \"lead < 40\"][\"fulliq\"], df[df['group'] == \"lead >= 40\"][\"fulliq\"])"
      ],
      "execution_count": 72,
      "outputs": [
        {
          "output_type": "execute_result",
          "data": {
            "text/plain": [
              "Ttest_indResult(statistic=1.833398840474052, pvalue=0.06918094358567622)"
            ]
          },
          "metadata": {
            "tags": []
          },
          "execution_count": 72
        }
      ]
    },
    {
      "cell_type": "markdown",
      "metadata": {
        "id": "TvdZyYVSld2l"
      },
      "source": [
        "**Given the t-test statistic and p-value that you just found, what conclusions can we make between the two groups at a significance level of** $\\alpha = 0.10 $"
      ]
    },
    {
      "cell_type": "code",
      "metadata": {
        "id": "aqWLFeS-ld2m",
        "outputId": "2aaf6f80-ef12-4c1f-b83f-d08ef13468de",
        "colab": {
          "base_uri": "https://localhost:8080/"
        }
      },
      "source": [
        "print(\"There is a significant difference between the two groups.  We reject the null H.\")"
      ],
      "execution_count": 73,
      "outputs": [
        {
          "output_type": "stream",
          "text": [
            "There is a significant difference between the two groups.  We reject the null H.\n"
          ],
          "name": "stdout"
        }
      ]
    },
    {
      "cell_type": "markdown",
      "metadata": {
        "id": "j4-l-paNld2m"
      },
      "source": [
        "# Getting Familar with Python\n",
        "\n",
        "For people that are new to using Python in a Notebook setting, this is probably a lot to take in. The good news is that even the most experienced Python data scientists spend a lot of time looking up documentation for functions. It's just a part of using Python, and is something that you'll get better at as time goes on. If you want to learn more about Python for Data Science, towardsdatascience.com is a great resource that you can leverage to learn more independently."
      ]
    }
  ]
}